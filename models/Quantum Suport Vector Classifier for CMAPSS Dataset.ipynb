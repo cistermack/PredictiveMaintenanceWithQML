{
 "cells": [
  {
   "cell_type": "code",
   "execution_count": 1,
   "id": "adolescent-composer",
   "metadata": {
    "scrolled": true
   },
   "outputs": [
    {
     "name": "stderr",
     "output_type": "stream",
     "text": [
      "<frozen importlib._bootstrap>:219: RuntimeWarning: scipy._lib.messagestream.MessageStream size changed, may indicate binary incompatibility. Expected 56 from C header, got 64 from PyObject\n"
     ]
    }
   ],
   "source": [
    "import numpy as np\n",
    "from sklearn.model_selection import train_test_split\n",
    "from sklearn.preprocessing import MinMaxScaler"
   ]
  },
  {
   "cell_type": "markdown",
   "id": "7d333d1e",
   "metadata": {},
   "source": [
    "## Data loading\n",
    "\n",
    "First, we load the corresponding dataset and extract the train and test splits"
   ]
  },
  {
   "cell_type": "code",
   "execution_count": 2,
   "id": "70f2bee4-caf4-43b3-8c74-21082bc7d76d",
   "metadata": {},
   "outputs": [],
   "source": [
    "# cargar archivo .npz que contiene los sets de entrenamiento\n",
    "npz_dst = np.load('data/CMAPSS_FD001_SENSOR_PCA.npz')\n",
    "\n",
    "# extraer sets de datos\n",
    "train_features, train_labels = npz_dst['X_train'], npz_dst['Y_train']\n",
    "test_features, test_labels = npz_dst['X_test'], npz_dst['Y_test']"
   ]
  },
  {
   "cell_type": "markdown",
   "id": "9705b219",
   "metadata": {},
   "source": [
    "Then we apply a MinMaxScaler to the data"
   ]
  },
  {
   "cell_type": "code",
   "execution_count": 3,
   "id": "4f64fca5-3dc7-4abe-8ff4-72e221556a5c",
   "metadata": {},
   "outputs": [],
   "source": [
    "from sklearn.preprocessing import MinMaxScaler\n",
    "\n",
    "train_features = MinMaxScaler(feature_range=(0, np.pi)).fit_transform(train_features)\n",
    "test_features = MinMaxScaler(feature_range=(0, np.pi)).fit_transform(test_features)"
   ]
  },
  {
   "cell_type": "markdown",
   "id": "5f3d9d13",
   "metadata": {},
   "source": [
    "Then, depending on the computational resources and the complexity of the model training, we use the `train_test_split` to extract a portion of the dataset."
   ]
  },
  {
   "cell_type": "code",
   "execution_count": 4,
   "id": "1a0da062-1387-4ebd-a9e0-b799e8fbcbef",
   "metadata": {},
   "outputs": [
    {
     "name": "stdout",
     "output_type": "stream",
     "text": [
      "train split: 10315 samples\n",
      "\n",
      "train rest split: 4127 samples\n",
      "\n",
      "test split: 6548 samples\n",
      "\n",
      "test rest split: 2620 samples\n"
     ]
    }
   ],
   "source": [
    "from sklearn.model_selection import train_test_split\n",
    "\n",
    "# realizar data splitting\n",
    "train_features, train_featuresrest, train_labels, train_labels_rest = train_test_split(train_features, train_labels,\n",
    "                                                  train_size=0.5, test_size=0.2,\n",
    "                                                  random_state=0)\n",
    "\n",
    "test_features, test_features_rest, test_labels, test_labels_rest = train_test_split(test_features, test_labels,\n",
    "                                                  train_size=0.5, test_size=0.2,\n",
    "                                                  random_state=0)\n",
    "\n",
    "# print sample distribution\n",
    "print( 'train split: {:d} samples'.format(train_features.shape[0]) )\n",
    "print( '\\ntrain rest split: {:d} samples'.format(train_featuresrest.shape[0]) )\n",
    "\n",
    "print( '\\ntest split: {:d} samples'.format(test_features.shape[0]) )\n",
    "print( '\\ntest rest split: {:d} samples'.format(test_features_rest.shape[0]) )"
   ]
  },
  {
   "cell_type": "markdown",
   "id": "central-poverty",
   "metadata": {},
   "source": [
    "We have 4 features in the dataset, so we set a number of qubits to the number of features in the dataset.\n",
    "\n",
    "Then we set $\\tau$ to the number of steps performed during the training procedure. The algorithm iterates over all $\\tau$ steps.\n",
    "\n",
    "And the last hyperparameter $C$ is a positive regularization parameter."
   ]
  },
  {
   "cell_type": "code",
   "execution_count": 5,
   "id": "dying-dispatch",
   "metadata": {},
   "outputs": [],
   "source": [
    "num_qubits = 4\n",
    "tau = 100\n",
    "C = 1000"
   ]
  },
  {
   "cell_type": "markdown",
   "id": "improving-wilderness",
   "metadata": {},
   "source": [
    "The algorithm will run using the default fidelity instantiated in `FidelityQuantumKernel` and a quantum kernel created from `ZFeatureMap`"
   ]
  },
  {
   "cell_type": "code",
   "execution_count": 6,
   "id": "automated-allergy",
   "metadata": {},
   "outputs": [],
   "source": [
    "from qiskit import BasicAer\n",
    "from qiskit.circuit.library import ZFeatureMap\n",
    "from qiskit.utils import algorithm_globals\n",
    "\n",
    "from qiskit_machine_learning.kernels import FidelityQuantumKernel\n",
    "\n",
    "algorithm_globals.random_seed = 12345\n",
    "\n",
    "feature_map = ZFeatureMap(feature_dimension=num_qubits, reps=1)\n",
    "\n",
    "qkernel = FidelityQuantumKernel(feature_map=feature_map)"
   ]
  },
  {
   "cell_type": "code",
   "execution_count": 7,
   "id": "c1f9c73d-ffe7-42eb-866f-49a88e87f16f",
   "metadata": {},
   "outputs": [
    {
     "data": {
      "image/png": "[encoded data removed]",
      "text/plain": [
       "<Figure size 206.997x264.88 with 1 Axes>"
      ]
     },
     "execution_count": 7,
     "metadata": {},
     "output_type": "execute_result"
    }
   ],
   "source": [
    "feature_map = feature_map\n",
    "feature_map.decompose().draw(output=\"mpl\", fold=20)"
   ]
  },
  {
   "cell_type": "markdown",
   "id": "attractive-stationery",
   "metadata": {},
   "source": [
    "The implementation `PegasosQSVC` is compatible with the `scikit-learn` interfaces. In the constructor we pass parameters of the algorithm: the regularization hyper-parameter $C$ and the number of steps.\n",
    "\n",
    "Then we pass training features and labels to the `fit` method, which trains a models and returns a fitted classifier. And finally we score our model using test features and labels."
   ]
  },
  {
   "cell_type": "code",
   "execution_count": 8,
   "id": "representative-thumb",
   "metadata": {
    "scrolled": false
   },
   "outputs": [
    {
     "name": "stdout",
     "output_type": "stream",
     "text": [
      "Training time: 7 seconds\n",
      "Testing time: 889 seconds\n",
      "PegasosQSVC classification test score: 0.6075137446548564\n"
     ]
    }
   ],
   "source": [
    "from qiskit_machine_learning.algorithms import PegasosQSVC\n",
    "import time\n",
    "\n",
    "pegasos_qsvc = PegasosQSVC(quantum_kernel=qkernel, C=C, num_steps=tau)\n",
    "\n",
    "# training\n",
    "start = time.time()\n",
    "pegasos_qsvc.fit(train_features, train_labels)\n",
    "elapsed = time.time() - start\n",
    "\n",
    "print(f\"Training time: {round(elapsed)} seconds\")\n",
    "\n",
    "# testing\n",
    "start = time.time()\n",
    "pegasos_score = pegasos_qsvc.score(test_features, test_labels)\n",
    "elapsed = time.time() - start\n",
    "\n",
    "print(f\"Testing time: {round(elapsed)} seconds\")\n",
    "print(f\"PegasosQSVC classification test score: {pegasos_score}\")"
   ]
  },
  {
   "cell_type": "markdown",
   "id": "b6ebaaca",
   "metadata": {},
   "source": [
    "Now we plot the confussion matrices. First, with the train data"
   ]
  },
  {
   "cell_type": "code",
   "execution_count": 9,
   "id": "32f90f5f",
   "metadata": {},
   "outputs": [
    {
     "data": {
      "image/png": "[encoded data removed]",
      "text/plain": [
       "<Figure size 252x189 with 2 Axes>"
      ]
     },
     "metadata": {
      "needs_background": "light"
     },
     "output_type": "display_data"
    }
   ],
   "source": [
    "from sklearn.metrics import confusion_matrix, ConfusionMatrixDisplay\n",
    "import matplotlib.pyplot as plt\n",
    "import scienceplots\n",
    "\n",
    "plt.style.use('science')\n",
    "\n",
    "labels_predict_train = pegasos_qsvc.predict(train_features)\n",
    "\n",
    "#matriz de confusion\n",
    "cm = confusion_matrix(train_labels, labels_predict_train, labels=[0, 1])\n",
    "\n",
    "# plot de matriz de confusión\n",
    "disp = ConfusionMatrixDisplay(confusion_matrix=cm, display_labels=['Degraded', 'Nominal'])\n",
    "\n",
    "disp.plot()\n",
    "plt.show()\n",
    "\n",
    "# Save Confussion Matrix\n",
    "name = \"QSVC_ZFeatureMap_FidelityQuantumKernel_TRAIN\"\n",
    "plt.savefig(\"./outputs/QSVC/CMAPSS/SENSOR/\"+name+\".pdf\", format='pdf', bbox_inches='tight')"
   ]
  },
  {
   "cell_type": "markdown",
   "id": "39bf9317",
   "metadata": {},
   "source": [
    "Then, with the test data."
   ]
  },
  {
   "cell_type": "code",
   "execution_count": 10,
   "id": "ad2bcbcd",
   "metadata": {},
   "outputs": [
    {
     "data": {
      "image/png": "[encoded data removed]",
      "text/plain": [
       "<Figure size 252x189 with 2 Axes>"
      ]
     },
     "metadata": {
      "needs_background": "light"
     },
     "output_type": "display_data"
    }
   ],
   "source": [
    "labels_predict_test = pegasos_qsvc.predict(test_features)\n",
    "\n",
    "#matriz de confusion\n",
    "cm = confusion_matrix(test_labels, labels_predict_test, labels=[0, 1])\n",
    "\n",
    "# plot de matriz de confusión\n",
    "disp = ConfusionMatrixDisplay(confusion_matrix=cm, display_labels=['Degraded', 'Nominal'])\n",
    "\n",
    "disp.plot()\n",
    "plt.show()\n",
    "\n",
    "# Save Confussion Matrix\n",
    "name = \"QSVC_ZFeatureMap_FidelityQuantumKernel_TEST\"\n",
    "plt.savefig(\"./outputs/QSVC/CMAPSS/SENSOR/\"+name+\".pdf\", format='pdf', bbox_inches='tight')"
   ]
  },
  {
   "cell_type": "markdown",
   "id": "24bb1822",
   "metadata": {},
   "source": [
    "Then we define a function to calculate more evaluation metrics and calculate all of this metrics among the accuracies prevoiusly obtained."
   ]
  },
  {
   "cell_type": "code",
   "execution_count": 11,
   "id": "51154209-f181-4f27-9dda-a507157fe288",
   "metadata": {},
   "outputs": [
    {
     "name": "stdout",
     "output_type": "stream",
     "text": [
      "Quantum VQC on the training dataset:\n",
      "Accuracy: 0.70\n",
      "Precision: 0.20\n",
      "Recall: 0.48\n",
      "Specificity: 0.73\n",
      "NPV: 0.91\n",
      "\n",
      "Quantum VQC on the test dataset:\n",
      "Accuracy: 0.61\n",
      "Precision: 0.13\n",
      "Recall: 0.47\n",
      "Specificity: 0.62\n",
      "NPV: 0.91\n"
     ]
    }
   ],
   "source": [
    "def metrics(matrix):\n",
    "    TP = matrix[0, 0]\n",
    "    FP = matrix[0, 1]\n",
    "    FN = matrix[1, 0]\n",
    "    TN = matrix[1, 1]\n",
    "    # Metrics calculation\n",
    "    total = TP + FP + FN + TN\n",
    "    precision = TP / (TP + FP)\n",
    "    recall = TP / (TP + FN)\n",
    "    specificity = TN / (TN + FP)\n",
    "    npv = TN / (TN + FN)\n",
    "\n",
    "    # Print the results\n",
    "    print(f\"Precision: {precision:.2f}\\nRecall: {recall:.2f}\\nSpecificity: {specificity:.2f}\\nNPV: {npv:.2f}\")\n",
    "\n",
    "train_score_q4 = pegasos_qsvc.score(train_features, train_labels)\n",
    "test_score_q4 = pegasos_qsvc.score(test_features, test_labels)\n",
    "\n",
    "print(\"Quantum VQC on the training dataset:\")\n",
    "print(f\"Accuracy: {train_score_q4:.2f}\")\n",
    "metrics(cm_train)\n",
    "print(\"\\nQuantum VQC on the test dataset:\")\n",
    "print(f\"Accuracy: {test_score_q4:.2f}\")\n",
    "metrics(cm_test)"
   ]
  }
 ],
 "metadata": {
  "kernelspec": {
   "display_name": "Python 3 (ipykernel)",
   "language": "python",
   "name": "python3"
  },
  "language_info": {
   "codemirror_mode": {
    "name": "ipython",
    "version": 3
   },
   "file_extension": ".py",
   "mimetype": "text/x-python",
   "name": "python",
   "nbconvert_exporter": "python",
   "pygments_lexer": "ipython3",
   "version": "3.9.12"
  },
  "widgets": {
   "application/vnd.jupyter.widget-state+json": {
    "state": {},
    "version_major": 2,
    "version_minor": 0
   }
  }
 },
 "nbformat": 4,
 "nbformat_minor": 5
}
